{
 "cells": [
  {
   "cell_type": "code",
   "execution_count": 20,
   "id": "847b7cb4",
   "metadata": {},
   "outputs": [],
   "source": [
    "import numpy as np\n",
    "\n",
    "class Perceptron:\n",
    "\n",
    "    def __init__(self, learning_rate=0.01, num_interations=1000):\n",
    "        self.lr = learning_rate\n",
    "        self.n_iters = num_interations\n",
    "        self.activation_function = self._relu_function\n",
    "        self.weights = None\n",
    "        self.bias = None\n",
    "    \n",
    "    def fit(self, X, y):\n",
    "        n_samples, n_features = X.shape\n",
    "\n",
    "        # initialize the weights and bias\n",
    "\n",
    "        self.weights = np.zeros(n_features)\n",
    "        self.bias = 0\n",
    "\n",
    "        for _ in range (self.n_iters):\n",
    "            for idx, x_i in enumerate(X):\n",
    "                linear_output = np.dot(x_i, self.weights) + self.bias\n",
    "                y_predicted = self.activation_function(linear_output)\n",
    "\n",
    "            # Perceptron update rule\n",
    "                update = self.lr * (y[idx] - y_predicted)\n",
    "                self.weights += update * x_i\n",
    "                self.bias += update\n",
    "\n",
    "        \n",
    "    def _relu_function(self, x):\n",
    "        return np.maximum(0, x)\n",
    "\n",
    "    def predict(self, X):\n",
    "        linear_output = np.dot (X, self.weights) + self.bias\n",
    "        y_predicted = self.activation_function(linear_output)\n",
    "        return y_predicted\n"
   ]
  },
  {
   "cell_type": "code",
   "execution_count": 12,
   "metadata": {},
   "outputs": [],
   "source": [
    "X = np.array([[0,0], [0,1], [1,0], [1,1]]) # logical AND dataset\n",
    "y = np.array([0,0,0,1])\n"
   ]
  },
  {
   "cell_type": "code",
   "execution_count": 21,
   "id": "029022d6",
   "metadata": {},
   "outputs": [],
   "source": [
    "perceptron = Perceptron(learning_rate=0.1, num_interations=10)\n",
    "perceptron.fit(X,y)"
   ]
  },
  {
   "cell_type": "code",
   "execution_count": 22,
   "id": "38aff1c8",
   "metadata": {},
   "outputs": [
    {
     "name": "stdout",
     "output_type": "stream",
     "text": [
      "Predictions:  [0.         0.32466043 0.34414617 0.67441927]\n"
     ]
    }
   ],
   "source": [
    "\n",
    "#Predict new samples\n",
    "print (\"Predictions: \", perceptron.predict(X))"
   ]
  },
  {
   "cell_type": "code",
   "execution_count": null,
   "id": "d666fedf",
   "metadata": {},
   "outputs": [],
   "source": []
  }
 ],
 "metadata": {
  "kernelspec": {
   "display_name": "Python 3",
   "language": "python",
   "name": "python3"
  },
  "language_info": {
   "codemirror_mode": {
    "name": "ipython",
    "version": 3
   },
   "file_extension": ".py",
   "mimetype": "text/x-python",
   "name": "python",
   "nbconvert_exporter": "python",
   "pygments_lexer": "ipython3",
   "version": "3.12.6"
  }
 },
 "nbformat": 4,
 "nbformat_minor": 5
}
